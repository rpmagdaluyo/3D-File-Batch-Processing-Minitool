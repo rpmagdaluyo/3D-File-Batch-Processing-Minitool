{
 "cells": [
  {
   "cell_type": "code",
   "execution_count": 1,
   "metadata": {},
   "outputs": [],
   "source": [
    "# Import necessary modules\n",
    "from PIL import Image\n",
    "import os\n",
    "import sys\n",
    "import glob\n",
    "\n",
    "import threading\n",
    "import concurrent.futures"
   ]
  },
  {
   "cell_type": "code",
   "execution_count": 2,
   "metadata": {},
   "outputs": [
    {
     "name": "stdout",
     "output_type": "stream",
     "text": [
      "c:\\Users\\ichR PC-2022\\Desktop\\Tool for Gabe\n"
     ]
    }
   ],
   "source": [
    "# Define where the images are saved\n",
    "#imgDir = 'C:\\\\Users\\\\ichR PC-2022\\\\Desktop\\\\Tool for Gabe'\n",
    "imgDir = r'C:\\Users\\ichR PC-2022\\Desktop\\Tool for Gabe'\n",
    "\n",
    "# Change directories\n",
    "os.chdir(imgDir)\n",
    "print(os.getcwd())"
   ]
  },
  {
   "cell_type": "code",
   "execution_count": 3,
   "metadata": {},
   "outputs": [],
   "source": [
    "# Find the 3D Object File\n",
    "threeD_object_file = glob.glob(\"*.gltf\")\n",
    "\n",
    "# Replace all references containing '.jpg', '.jpeg' and '.png' in the 3D object file\n",
    "with open(threeD_object_file[0], 'r') as file:\n",
    "    filedata = file.read()\n",
    "\n",
    "filedata = filedata.replace('jpg', 'webp')\n",
    "filedata = filedata.replace('jpeg', 'webp')\n",
    "filedata = filedata.replace('png', 'webp')\n",
    "\n",
    "with open(threeD_object_file[0], 'w') as file:\n",
    "    file.write(filedata)\n"
   ]
  },
  {
   "cell_type": "code",
   "execution_count": 4,
   "metadata": {},
   "outputs": [],
   "source": [
    "# Find all images that are .png and .jpg\n",
    "all_images = glob.glob(\"**/*.png\", recursive=True) + glob.glob(\"**/*.jpg\", recursive=True)\n",
    "\n",
    "# Downsize all images to 1024 x 1024 and save as .webp\n",
    "def resize_and_convert_to_webp(source_path):\n",
    "    resample_technique = PIL.Image.LANCZOS\n",
    "\n",
    "    with Image.open(source_path) as img:\n",
    "        fileName, fileExtension = os.path.splitext(source_path)\n",
    "        img = img.resize((1024, 1024), resample=resample_technique)\n",
    "        out_path = fileName + \".webp\"\n",
    "        img.save(out_path)\n",
    "        #os.remove(source_path)\n",
    "\n",
    "with concurrent.futures.ThreadPoolExecutor() as threads:\n",
    "    threads.map(resize_and_convert_to_webp, all_images)"
   ]
  },
  {
   "cell_type": "code",
   "execution_count": 5,
   "metadata": {},
   "outputs": [],
   "source": [
    "# Delete all .png and .jpg"
   ]
  }
 ],
 "metadata": {
  "kernelspec": {
   "display_name": "Python 3.10.9 64-bit (microsoft store)",
   "language": "python",
   "name": "python3"
  },
  "language_info": {
   "codemirror_mode": {
    "name": "ipython",
    "version": 3
   },
   "file_extension": ".py",
   "mimetype": "text/x-python",
   "name": "python",
   "nbconvert_exporter": "python",
   "pygments_lexer": "ipython3",
   "version": "3.10.11"
  },
  "orig_nbformat": 4,
  "vscode": {
   "interpreter": {
    "hash": "0e12464b410e959d5b54fba2b0f6b2b4aae303098d13fa9a0188a68fbc365ee6"
   }
  }
 },
 "nbformat": 4,
 "nbformat_minor": 2
}
